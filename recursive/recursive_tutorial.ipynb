{
 "cells": [
  {
   "cell_type": "code",
   "execution_count": null,
   "metadata": {},
   "outputs": [],
   "source": [
    "%matplotlib inline"
   ]
  },
  {
   "cell_type": "markdown",
   "metadata": {},
   "source": [
    "## Recursive Neural Networks\n",
    "\n",
    "Recursive neural networks are extensions of recurrent neural networks for tree-structured data (refer e.g. to [Sperduti, 1997](http://www.ing.unisi.it/~monica/Paper/p20.pdf.gz), [Socher, 2013](http://www.aclweb.org/anthology/D13-1170)). However, to properly introduce recursive neural networks, we first need to talk about _trees_ for a moment.\n",
    "\n",
    "Let $\\Sigma$ be a finite set, which we call _alphabet_. A tree over $\\Sigma$ is then recursively defined as $x(T_1, \\ldots, T_m)$ where $x \\in \\Sigma$ and $T_1, \\ldots, T_m$ is a (possibly empty) list of trees over $\\Sigma$. We call $x$ the _label_ of the tree and $T_1, \\ldots, T_m$ the _children_ of the tree. For example, if $\\Sigma = \\{ \\neg, \\vee, \\wedge, x, y \\}$ then the following are example trees $x()$, $y()$, $\\neg(x())$, $\\vee(x(), y())$, $x(\\wedge(\\neg(), y))$. Trees without children are called _leaves_. For simplicity, we typically omit the brackets for leaves. So the tree $x()$ can also be written as simply $x$.\n",
    "\n",
    "Typically, considering all trees over an alphabet $\\Sigma$ is too permissive. For example, if we want to express logical formulae as trees, then $x(\\wedge(\\neg(), y))$ is a tree over $\\Sigma = \\{ \\neg, \\vee, \\wedge, x, y \\}$, but it is not a valid logical formula. To prevent such invalid trees, we need to provide some additional structure. In this case, we do so by fixing the number of children for each symbol. If $\\Sigma$ is an alphabet, an _arity function_ over $\\Sigma$ is defined as a mapping $\\alpha : \\Sigma \\to \\mathbb{N}_0$. Accordingly, we call $\\alpha(x)$ the _arity_ of $x \\in \\Sigma$ and we call the tuple $(\\Sigma, \\alpha)$ an _arity alphabet_. In our example, we could define $\\alpha(\\neg) = 1$, $\\alpha(\\wedge) = \\alpha(\\vee) = 2$, as well as $\\alpha(x) = \\alpha(y) = 0$.\n",
    "\n",
    "We define a tree over an arity alphabet $(\\Sigma, \\alpha)$ as $x(T_1, \\ldots, T_{\\alpha(x)})$ where $x \\in \\Sigma$ and $T_1, \\ldots, T_{\\alpha(x)}$ are trees over $(\\Sigma, \\alpha)$. As you can easily check, our example arity alphabet now only permits valid logical formulae.\n",
    "\n",
    "A recursive neural network is a means of mapping trees over an arity alphabet to real vectors. More precisely, a recursive neural network over an arity alphabet $(\\Sigma, \\alpha)$ is defined as a function $\\mathcal{F}$ which maps any symbol $x \\in \\Sigma$ to a function $f_x : \\underbrace{\\mathbb{R}^k \\times \\ldots \\times \\mathbb{R}^k}_{\\alpha(x) \\text{ times}} \\to \\mathbb{R}^k$ for some $k \\in \\mathbb{N}$. Note that the functions for zero-arity symbols/leaves are constants. We can process a tree $x(T_1, \\ldots, T_{\\alpha(x)})$ via such a recursive neural network via the following recursive formula:\n",
    "\\begin{equation}\n",
    "f\\big(x(T_1, \\ldots, T_{\\alpha(x)})\\big) := f_x\\big(f(T_1), \\ldots, f(T_{\\alpha(x)})\\big)\n",
    "\\end{equation}\n",
    "Note that each $f_x$ is a feedforward neural network, hence the name _recursive neural network_."
   ]
  },
  {
   "cell_type": "markdown",
   "metadata": {},
   "source": [
    "### Formal Logic Example\n",
    "\n",
    "In this notebook, we will learn a recursive neural network which learns the truth value of logical formulae from example trees with their truth value."
   ]
  },
  {
   "cell_type": "code",
   "execution_count": 43,
   "metadata": {},
   "outputs": [
    {
     "name": "stdout",
     "output_type": "stream",
     "text": [
      "the tree and(x, y) has truth value 0\n"
     ]
    }
   ],
   "source": [
    "# For this exercise, we already provide data generation function (an 'oracle')\n",
    "# which we can use\n",
    "from recursive_oracle import generate_logical_tree\n",
    "\n",
    "# let's have a look at an example tree and its truth value.\n",
    "# Executing this cell multiple times will yield different trees.\n",
    "x, y = generate_logical_tree()\n",
    "print('the tree %s has truth value %g' % (str(x), y))"
   ]
  },
  {
   "cell_type": "code",
   "execution_count": 60,
   "metadata": {},
   "outputs": [],
   "source": [
    "# Next, we set up our recursive neural network model\n",
    "import torch\n",
    "\n",
    "class RecursiveNet(torch.nn.Module):\n",
    "    # As an input we expect:\n",
    "    # dim - the dimensionality of the encoding space\n",
    "    # arity_alphabet - a dictionary which maps symbols to their arity\n",
    "    def __init__(self, dim, arity_alphabet):\n",
    "        # In the constructor, we first call the constructor\n",
    "        # for a general neural network module\n",
    "        super(RecursiveNet, self).__init__()\n",
    "        # Store the dimensionality\n",
    "        self.dim = int(dim)\n",
    "        # Store the arity alphabet\n",
    "        self.arity_alphabet = arity_alphabet\n",
    "        # We set up a dictionary of constants for the leaves\n",
    "        self.constants = torch.nn.ParameterDict()\n",
    "        # ... and a dictionary for sigmoid layers for the non-leaves\n",
    "        self.layers = torch.nn.ModuleDict()\n",
    "        # Then we initialize these for each symbol\n",
    "        for symbol, arity in self.arity_alphabet.items():\n",
    "            if(arity == 0):\n",
    "                self.constants[symbol] = torch.nn.Parameter(torch.randn(self.dim))\n",
    "            else:\n",
    "                self.layers[symbol] = torch.nn.Linear(arity * self.dim, self.dim)\n",
    "        # And we use a shared sigmoid for all layers\n",
    "        self.sigmoid = torch.nn.Sigmoid()\n",
    "\n",
    "    def forward(self, T):\n",
    "        # this computes the forward pass for a single tree T\n",
    "        # using the recursive computation formula\n",
    "\n",
    "        # first, check if the tree has the right arity\n",
    "        arity = self.arity_alphabet[T.label]\n",
    "        if(len(T.children) != arity):\n",
    "            raise ValueError('Expected %s children for a node with label %s but got %d children.' % (\n",
    "                arity, T.label, len(T.children)))\n",
    "        # Next, check if the tree is a leaf\n",
    "        if(arity == 0):\n",
    "            # if so, return the constant, filtered through the sigmoid\n",
    "            return self.sigmoid(self.constants[T.label])\n",
    "        # Otherwise we first need to compute the encodings for all\n",
    "        # children and then encode the current tree\n",
    "        child_encodings = []\n",
    "        for child in T.children:\n",
    "            child_encodings.append(self.forward(child))\n",
    "        # concatenate all child encodings\n",
    "        child_encodings = torch.cat(child_encodings)\n",
    "        # compute the encoding for the current tree\n",
    "        encoding = self.layers[T.label](child_encodings)\n",
    "        encoding = self.sigmoid(encoding)\n",
    "        return encoding\n",
    "\n",
    "# Set up a recursive neural network for our example\n",
    "k = 1\n",
    "arity_alphabet = {'not' : 1, 'and' : 2, 'or' : 2, 'x' : 0, 'y' : 0}\n",
    "model = RecursiveNet(k, arity_alphabet)\n",
    "\n",
    "# Set up a loss function\n",
    "loss_function = torch.nn.MSELoss()\n",
    "\n",
    "# As optimizer, we use Adam\n",
    "optimizer = torch.optim.Adam(model.parameters(), lr=0.01)"
   ]
  },
  {
   "cell_type": "code",
   "execution_count": 61,
   "metadata": {},
   "outputs": [
    {
     "name": "stdout",
     "output_type": "stream",
     "text": [
      "loss after 20 batches: 0.22436552956700326\n",
      "loss after 40 batches: 0.21382004849612712\n",
      "loss after 60 batches: 0.21273231744766236\n",
      "loss after 80 batches: 0.16791603922843934\n",
      "loss after 100 batches: 0.18376320965588092\n",
      "loss after 120 batches: 0.13934028193354606\n",
      "loss after 140 batches: 0.13111647486686706\n",
      "loss after 160 batches: 0.13234317345544697\n",
      "loss after 180 batches: 0.11010331805795431\n",
      "loss after 200 batches: 0.10762513080611825\n",
      "loss after 220 batches: 0.11798544565215707\n",
      "loss after 240 batches: 0.13493177929893135\n",
      "loss after 260 batches: 0.1289773198403418\n",
      "loss after 280 batches: 0.10246860431507229\n",
      "loss after 300 batches: 0.07876131635159254\n",
      "loss after 320 batches: 0.106330511495471\n",
      "loss after 340 batches: 0.0711101636569947\n",
      "loss after 360 batches: 0.07087125638499855\n",
      "loss after 380 batches: 0.0738568608649075\n",
      "loss after 400 batches: 0.07418032949324697\n",
      "loss after 420 batches: 0.06471426470205188\n",
      "loss after 440 batches: 0.0675542847532779\n",
      "loss after 460 batches: 0.07055423678830267\n",
      "loss after 480 batches: 0.05723943926393986\n",
      "loss after 500 batches: 0.054453271974343805\n",
      "loss after 520 batches: 0.06774127836339176\n",
      "loss after 540 batches: 0.07185805938206613\n",
      "loss after 560 batches: 0.06716304131783545\n",
      "loss after 580 batches: 0.04631821373710409\n",
      "loss after 600 batches: 0.04207034442573786\n",
      "loss after 620 batches: 0.04449801641632803\n",
      "loss after 640 batches: 0.04303920728620142\n",
      "loss after 660 batches: 0.03137277947738767\n",
      "loss after 680 batches: 0.04345788769191131\n",
      "loss after 700 batches: 0.028041092664934694\n",
      "loss after 720 batches: 0.03373427266138606\n",
      "loss after 740 batches: 0.04827245367720025\n",
      "loss after 760 batches: 0.0588482833863236\n",
      "loss after 780 batches: 0.06267427528742701\n",
      "loss after 800 batches: 0.020288175323512406\n",
      "loss after 820 batches: 0.04259697362271254\n",
      "loss after 840 batches: 0.031584760864207057\n",
      "loss after 860 batches: 0.025788730911444874\n",
      "loss after 880 batches: 0.019084009838916245\n",
      "loss after 900 batches: 0.02339912577990617\n",
      "loss after 920 batches: 0.018059849718993062\n",
      "loss after 940 batches: 0.027721994547973736\n",
      "loss after 960 batches: 0.035735564105707454\n",
      "loss after 980 batches: 0.018630962994066066\n",
      "loss after 1000 batches: 0.019223005322855896\n",
      "loss after 1020 batches: 0.013953854017890989\n",
      "loss after 1040 batches: 0.014055821503698098\n",
      "loss after 1060 batches: 0.01856996769507532\n"
     ]
    }
   ],
   "source": [
    "# Starting from these ingredients we can optimize until\n",
    "# the loss is low enough. You can also set the threshold lower\n",
    "# to get even better results (if you have more time)\n",
    "loss_threshold = 1E-2\n",
    "learning_curve = []\n",
    "\n",
    "minibatch_size = 50\n",
    "\n",
    "while(not learning_curve or learning_curve[-1] > loss_threshold):\n",
    "    # Don't forget to zero out the gradient\n",
    "    optimizer.zero_grad()\n",
    "    \n",
    "    # In this case we will be working with minibatches because\n",
    "    # the generated trees are so wildly different in size, thus\n",
    "    # introducing very different errors\n",
    "    loss_batch = 0\n",
    "    for i in range(minibatch_size):\n",
    "        # generate an example tree\n",
    "        (x, y) = generate_logical_tree()\n",
    "        # apply the model with the current parameters\n",
    "        y_predicted = model(x)\n",
    "        # compute the loss\n",
    "        loss_object = loss_function(y, y_predicted)\n",
    "        loss_batch += loss_object.item()\n",
    "        # compute the gradient of the loss\n",
    "        # Note that the gradient is accumulated over the\n",
    "        # minibatch because we do not zero the gradient\n",
    "        # within the batch\n",
    "        loss_object.backward()\n",
    "\n",
    "    # print the loss every 20 batches so that we see the progress\n",
    "    # while learning happens\n",
    "    learning_curve.append(loss_batch / minibatch_size)\n",
    "    if(len(learning_curve) % 20 == 0):\n",
    "        print('loss after {} batches: {}'.format(len(learning_curve), learning_curve[-1]))\n",
    "\n",
    "    # compute a step of the optimizer based on the gradient\n",
    "    optimizer.step()"
   ]
  },
  {
   "cell_type": "code",
   "execution_count": 62,
   "metadata": {},
   "outputs": [
    {
     "data": {
      "image/png": "[encoded data removed]",
      "text/plain": [
       "<Figure size 432x288 with 1 Axes>"
      ]
     },
     "metadata": {
      "needs_background": "light"
     },
     "output_type": "display_data"
    }
   ],
   "source": [
    "# plot the learning curve\n",
    "\n",
    "import matplotlib.pyplot as plt\n",
    "\n",
    "plt.plot(list(range(len(learning_curve))), learning_curve)\n",
    "plt.xlabel('gradient step')\n",
    "plt.ylabel('loss')\n",
    "plt.show()"
   ]
  },
  {
   "cell_type": "code",
   "execution_count": 63,
   "metadata": {},
   "outputs": [
    {
     "name": "stdout",
     "output_type": "stream",
     "text": [
      "weights for symbol 'not' = tensor([-5.1771]) ; bias = tensor(2.4468)\n",
      "weights for symbol 'and' = tensor([2.3201, 2.3050]) ; bias = tensor(-3.4976)\n",
      "weights for symbol 'or' = tensor([4.0584, 4.0702]) ; bias = tensor(-2.1756)\n",
      "encoding for symbol 'x' = Parameter containing:\n",
      "tensor([-2.9571], requires_grad=True)\n",
      "encoding for symbol 'y' = Parameter containing:\n",
      "tensor([3.8656], requires_grad=True)\n"
     ]
    }
   ],
   "source": [
    "# Because our model has so few parameters, we can actually inspect\n",
    "# the parameters in detail\n",
    "for symbol, arity in arity_alphabet.items():\n",
    "    if(arity > 0):\n",
    "        w = model.layers[symbol].weight.data[0]\n",
    "        b = model.layers[symbol].bias.data[0]\n",
    "        print('weights for symbol \\'%s\\' = %s ; bias = %s' % (symbol, str(w), str(b)))\n",
    "    else:\n",
    "        print('encoding for symbol \\'%s\\' = %s' % (symbol, str(model.constants[symbol])))"
   ]
  }
 ],
 "metadata": {
  "kernelspec": {
   "display_name": "Python 3",
   "language": "python",
   "name": "python3"
  },
  "language_info": {
   "codemirror_mode": {
    "name": "ipython",
    "version": 3
   },
   "file_extension": ".py",
   "mimetype": "text/x-python",
   "name": "python",
   "nbconvert_exporter": "python",
   "pygments_lexer": "ipython3",
   "version": "3.7.2"
  }
 },
 "nbformat": 4,
 "nbformat_minor": 2
}
