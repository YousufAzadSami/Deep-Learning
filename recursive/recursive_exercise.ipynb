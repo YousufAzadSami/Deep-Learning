{
 "cells": [
  {
   "cell_type": "code",
   "execution_count": 1,
   "metadata": {},
   "outputs": [],
   "source": [
    "%matplotlib inline"
   ]
  },
  {
   "cell_type": "markdown",
   "metadata": {},
   "source": [
    "## Recursive Network Exercise\n",
    "\n",
    "In this exercise, you should train a recursive neural network which can estimate the _free energy_ of an _RNA secondary structure_. In biology, RNA sequences fold to so-called secondary structures and it is assumed that secondary structures are preferred which have little free energy. Free energy is minimized if base pairs are joined in stable pairs.\n",
    "\n",
    "For this task, though, you do not need to know anything about the actual biological specifics. You can just train a recursive neural net which infers the correct energy (a simple scalar) from a given tree.\n",
    "\n",
    "### Report\n",
    "\n",
    "For the report, please describe the architecture that you used to solve the task and generate the following plot. After training the network, generate 100 further trees and record for each tree the size using the `recursive_oracle.tree_size` function and the error `abs(y - y_predicted)`. Plot error against tree size in a scatter plot.\n",
    "\n",
    "<strong>Note:</strong> Please use the `exercise_sheet_template.tex` to generate your report. Your report is due on *Friday, March 15th, 10am* as single-page PDF to [aschulz@techfak.uni-bielefeld.de](mailto:aschulz@techfak.uni-bielefeld.de). Please start your e-mail subject with the words *[Deep Learning]*.\n",
    "\n",
    "### Advice\n",
    "\n",
    "Do not try to map directly to the energy because a one-dimensional encoding may carry too little information. Rather, apply a recursive neural network to a low-dimensional encoding space first and then another neural network which predicts from the encoding the free energy.\n",
    "\n",
    "Further, this predictive task is not super easy, so do not try to achieve perfect error values. If you manage to stay consistently below an error of 1 this is already a good result."
   ]
  },
  {
   "cell_type": "code",
   "execution_count": 47,
   "metadata": {},
   "outputs": [
    {
     "name": "stdout",
     "output_type": "stream",
     "text": [
      "the tree pair(u, pair(g, hairpin(c, hairpin(u, hairpin(g, hairpin_end(u)))), c), g) has energy value 2.56355\n"
     ]
    }
   ],
   "source": [
    "# For this exercise, we already provide data generation function (an 'oracle')\n",
    "# which we can use\n",
    "from recursive_oracle import generate_rna_tree\n",
    "\n",
    "# let's have a look at an example tree and its energy value.\n",
    "# Executing this cell multiple times will yield different trees.\n",
    "x, y = generate_rna_tree()\n",
    "print('the tree %s has energy value %g' % (str(x), y))"
   ]
  },
  {
   "cell_type": "code",
   "execution_count": 48,
   "metadata": {},
   "outputs": [
    {
     "name": "stdout",
     "output_type": "stream",
     "text": [
      "{'dangle': 2, 'dangle_end': 1, 'split': 2, 'pair': 3, 'branch': 2, 'hairpin': 2, 'hairpin_end': 1, 'c': 0, 'g': 0, 'a': 0, 'u': 0}\n"
     ]
    }
   ],
   "source": [
    "# The oracle also provides us with the arity alphabet for the RNA trees\n",
    "from recursive_oracle import rna_arity_alphabet\n",
    "print(rna_arity_alphabet)"
   ]
  },
  {
   "cell_type": "code",
   "execution_count": 49,
   "metadata": {},
   "outputs": [],
   "source": [
    "import torch\n",
    "from torch.autograd import Variable\n",
    "\n",
    "class RecursiveNet(torch.nn.Module):\n",
    "    def __init__(self, dim, arity_alphabet):\n",
    "        \n",
    "        super(RecursiveNet, self).__init__()\n",
    "        self.dim = int(dim)\n",
    "        self.arity_alphabet = arity_alphabet\n",
    "       #self.embed = torch.nn.Embedding(len(arity_alphabet), dim)\n",
    "        #self.noise = torch.nn.Embedding(len(arity_alphabet), dim)\n",
    "        self.constants = torch.nn.ParameterDict()\n",
    "        self.layers = torch.nn.ModuleDict()\n",
    "        self.Linear = torch.nn.Linear(self.dim, 1)\n",
    "\n",
    "        for symbol, arity in self.arity_alphabet.items():\n",
    "            if(arity == 0):\n",
    "                self.constants[symbol] = torch.nn.Parameter(torch.randn(self.dim))\n",
    "            else:\n",
    "                self.layers[symbol] = torch.nn.Linear(arity * self.dim, self.dim)\n",
    "        self.sigmoid = torch.nn.Sigmoid()\n",
    "        #self.ReLU = torch.nn.ReLU()\n",
    "        #self.Hardtanh = torch.nn.Hardtanh()\n",
    "\n",
    "    def encode(self, T):\n",
    "        arity = self.arity_alphabet[T.label]\n",
    "        if(len(T.children) != arity):\n",
    "            raise ValueError('Expected %s children for a node with label %s but got %d children.' % (\n",
    "                arity, T.label, len(T.children)))\n",
    "        if(arity == 0):\n",
    "            return self.sigmoid(self.constants[T.label])\n",
    "        \n",
    "        child_encodings = []\n",
    "        for child in T.children:\n",
    "            child_encodings.append(self.encode(child))\n",
    "            \n",
    "        child_encodings = torch.cat(child_encodings)\n",
    "        encoding = self.layers[T.label](child_encodings)\n",
    "        #encoding = self.embed(Variable(torch.LongTensor([self.arity_alphabet[T.label]])))\n",
    "        #encoding = self.ReLU(encoding)\n",
    "        #encoding = self.Linear(encodin)\n",
    "        return encoding\n",
    "    \n",
    "    def forward(self,T):\n",
    "        encoding = self.encode(T)\n",
    "        encoding = self.Linear(encoding)\n",
    "        return encoding\n",
    "\n",
    "def loss_function(prediction, y_predicted):\n",
    "    #loss = torch.abs(prediction - target).requires_grad_(True)\n",
    "    return torch.abs(prediction-y_predicted).requires_grad_(True)\n",
    "\n",
    "k = 8\n",
    "#rna_arity_alphabet = {'dangle': 2, 'dangle_end': 1, 'split': 2, 'pair': 3, 'branch': 2, 'hairpin': 2,'hairpin_end': 1, 'c': 0, 'g': 0, 'a': 0, 'u': 0}\n",
    "model = RecursiveNet(k, rna_arity_alphabet)\n",
    "\n",
    "#loss_function = torch.nn.L1Loss()\n",
    "\n",
    "\n",
    "optimizer = torch.optim.Adam(model.parameters(), lr=0.01)\n",
    "#torch.optim.Adam(params, lr=0.001, betas=(0.9, 0.999), eps=1e-08, weight_decay=0, amsgrad=False)"
   ]
  },
  {
   "cell_type": "code",
   "execution_count": 51,
   "metadata": {},
   "outputs": [
    {
     "name": "stdout",
     "output_type": "stream",
     "text": [
      "RecursiveNet(\n",
      "  (constants): ParameterDict(\n",
      "      (c): Parameter containing: [torch.FloatTensor of size 8]\n",
      "      (g): Parameter containing: [torch.FloatTensor of size 8]\n",
      "      (a): Parameter containing: [torch.FloatTensor of size 8]\n",
      "      (u): Parameter containing: [torch.FloatTensor of size 8]\n",
      "  )\n",
      "  (layers): ModuleDict(\n",
      "    (dangle): Linear(in_features=16, out_features=8, bias=True)\n",
      "    (dangle_end): Linear(in_features=8, out_features=8, bias=True)\n",
      "    (split): Linear(in_features=16, out_features=8, bias=True)\n",
      "    (pair): Linear(in_features=24, out_features=8, bias=True)\n",
      "    (branch): Linear(in_features=16, out_features=8, bias=True)\n",
      "    (hairpin): Linear(in_features=16, out_features=8, bias=True)\n",
      "    (hairpin_end): Linear(in_features=8, out_features=8, bias=True)\n",
      "  )\n",
      "  (Linear): Linear(in_features=8, out_features=1, bias=True)\n",
      "  (sigmoid): Sigmoid()\n",
      ")\n",
      "loss after 20 batches: 1.4938522344827652\n",
      "loss after 40 batches: 1.4538879930973052\n",
      "loss after 60 batches: 1.3951028156280518\n",
      "loss after 80 batches: 0.8442799204587936\n",
      "loss after 100 batches: 0.5595034825801849\n",
      "loss after 120 batches: 0.4403023612499237\n",
      "loss after 140 batches: 0.33932657420635226\n",
      "loss after 160 batches: 0.323735211789608\n",
      "loss after 180 batches: 0.32742774963378907\n",
      "loss after 200 batches: 0.5437900853157044\n",
      "loss after 220 batches: 0.4296257400512695\n",
      "loss after 240 batches: 0.5375064603984356\n",
      "loss after 260 batches: 0.457428320646286\n",
      "loss after 280 batches: 0.42422169029712675\n",
      "loss after 300 batches: 0.5166767758131027\n",
      "loss after 320 batches: 0.40382856607437134\n",
      "loss after 340 batches: 0.5142549622058868\n",
      "loss after 360 batches: 0.33966790080070497\n",
      "loss after 380 batches: 0.38462752938270567\n",
      "loss after 400 batches: 0.5444851887226104\n",
      "loss after 420 batches: 0.4814546591043472\n",
      "loss after 440 batches: 0.4320450550317764\n",
      "loss after 460 batches: 0.5902573253214359\n"
     ]
    },
    {
     "ename": "KeyboardInterrupt",
     "evalue": "",
     "output_type": "error",
     "traceback": [
      "\u001b[0;31m---------------------------------------------------------------------------\u001b[0m",
      "\u001b[0;31mKeyboardInterrupt\u001b[0m                         Traceback (most recent call last)",
      "\u001b[0;32m<ipython-input-51-5e630ae75be1>\u001b[0m in \u001b[0;36m<module>\u001b[0;34m\u001b[0m\n\u001b[1;32m      9\u001b[0m     \u001b[0mloss_batch\u001b[0m \u001b[0;34m=\u001b[0m \u001b[0;36m0\u001b[0m\u001b[0;34m\u001b[0m\u001b[0m\n\u001b[1;32m     10\u001b[0m     \u001b[0;32mfor\u001b[0m \u001b[0mi\u001b[0m \u001b[0;32min\u001b[0m \u001b[0mrange\u001b[0m\u001b[0;34m(\u001b[0m\u001b[0mminibatch_size\u001b[0m\u001b[0;34m)\u001b[0m\u001b[0;34m:\u001b[0m\u001b[0;34m\u001b[0m\u001b[0m\n\u001b[0;32m---> 11\u001b[0;31m         \u001b[0;34m(\u001b[0m\u001b[0mx\u001b[0m\u001b[0;34m,\u001b[0m \u001b[0my\u001b[0m\u001b[0;34m)\u001b[0m \u001b[0;34m=\u001b[0m \u001b[0mgenerate_rna_tree\u001b[0m\u001b[0;34m(\u001b[0m\u001b[0;34m)\u001b[0m\u001b[0;34m\u001b[0m\u001b[0m\n\u001b[0m\u001b[1;32m     12\u001b[0m         \u001b[0;31m#print(x)\u001b[0m\u001b[0;34m\u001b[0m\u001b[0;34m\u001b[0m\u001b[0m\n\u001b[1;32m     13\u001b[0m         \u001b[0my_predicted\u001b[0m \u001b[0;34m=\u001b[0m \u001b[0mmodel\u001b[0m\u001b[0;34m(\u001b[0m\u001b[0mx\u001b[0m\u001b[0;34m)\u001b[0m\u001b[0;34m\u001b[0m\u001b[0m\n",
      "\u001b[0;32m~/Bala/SEM3/deep_learning_exercises/recursive/recursive_oracle.py\u001b[0m in \u001b[0;36mgenerate_rna_tree\u001b[0;34m()\u001b[0m\n\u001b[1;32m    235\u001b[0m \u001b[0;32mdef\u001b[0m \u001b[0mgenerate_rna_tree\u001b[0m\u001b[0;34m(\u001b[0m\u001b[0;34m)\u001b[0m\u001b[0;34m:\u001b[0m\u001b[0;34m\u001b[0m\u001b[0m\n\u001b[1;32m    236\u001b[0m         \u001b[0;31m# generate a tree with the rna rules and probabilities\u001b[0m\u001b[0;34m\u001b[0m\u001b[0;34m\u001b[0m\u001b[0m\n\u001b[0;32m--> 237\u001b[0;31m         \u001b[0mx\u001b[0m \u001b[0;34m=\u001b[0m \u001b[0mgenerate_tree\u001b[0m\u001b[0;34m(\u001b[0m\u001b[0;34m'S'\u001b[0m\u001b[0;34m,\u001b[0m \u001b[0mrna_rules\u001b[0m\u001b[0;34m,\u001b[0m \u001b[0mrna_P\u001b[0m\u001b[0;34m)\u001b[0m\u001b[0;34m\u001b[0m\u001b[0m\n\u001b[0m\u001b[1;32m    238\u001b[0m         \u001b[0;31m# get the minimum free energy value\u001b[0m\u001b[0;34m\u001b[0m\u001b[0;34m\u001b[0m\u001b[0m\n\u001b[1;32m    239\u001b[0m         \u001b[0my\u001b[0m \u001b[0;34m=\u001b[0m \u001b[0mestimate_energy\u001b[0m\u001b[0;34m(\u001b[0m\u001b[0mx\u001b[0m\u001b[0;34m)\u001b[0m\u001b[0;34m\u001b[0m\u001b[0m\n",
      "\u001b[0;32m~/Bala/SEM3/deep_learning_exercises/recursive/recursive_oracle.py\u001b[0m in \u001b[0;36mgenerate_tree\u001b[0;34m(start, rules, P)\u001b[0m\n\u001b[1;32m     48\u001b[0m                 \u001b[0mr\u001b[0m \u001b[0;34m=\u001b[0m \u001b[0mnp\u001b[0m\u001b[0;34m.\u001b[0m\u001b[0mrandom\u001b[0m\u001b[0;34m.\u001b[0m\u001b[0mchoice\u001b[0m\u001b[0;34m(\u001b[0m\u001b[0mlist\u001b[0m\u001b[0;34m(\u001b[0m\u001b[0mrange\u001b[0m\u001b[0;34m(\u001b[0m\u001b[0mlen\u001b[0m\u001b[0;34m(\u001b[0m\u001b[0moptions\u001b[0m\u001b[0;34m)\u001b[0m\u001b[0;34m)\u001b[0m\u001b[0;34m)\u001b[0m\u001b[0;34m,\u001b[0m \u001b[0;36m1\u001b[0m\u001b[0;34m,\u001b[0m \u001b[0mp\u001b[0m \u001b[0;34m=\u001b[0m \u001b[0mps\u001b[0m\u001b[0;34m)\u001b[0m\u001b[0;34m[\u001b[0m\u001b[0;36m0\u001b[0m\u001b[0;34m]\u001b[0m\u001b[0;34m\u001b[0m\u001b[0m\n\u001b[1;32m     49\u001b[0m                 \u001b[0;31m# apply this rule\u001b[0m\u001b[0;34m\u001b[0m\u001b[0;34m\u001b[0m\u001b[0m\n\u001b[0;32m---> 50\u001b[0;31m                 \u001b[0mparent\u001b[0m\u001b[0;34m.\u001b[0m\u001b[0mchildren\u001b[0m\u001b[0;34m[\u001b[0m\u001b[0mchild_idx\u001b[0m\u001b[0;34m]\u001b[0m \u001b[0;34m=\u001b[0m \u001b[0mcopy\u001b[0m\u001b[0;34m.\u001b[0m\u001b[0mdeepcopy\u001b[0m\u001b[0;34m(\u001b[0m\u001b[0moptions\u001b[0m\u001b[0;34m[\u001b[0m\u001b[0mr\u001b[0m\u001b[0;34m]\u001b[0m\u001b[0;34m)\u001b[0m\u001b[0;34m\u001b[0m\u001b[0m\n\u001b[0m\u001b[1;32m     51\u001b[0m                 \u001b[0;31m# get the newly generated subtree\u001b[0m\u001b[0;34m\u001b[0m\u001b[0;34m\u001b[0m\u001b[0m\n\u001b[1;32m     52\u001b[0m                 \u001b[0mnew_parent\u001b[0m \u001b[0;34m=\u001b[0m \u001b[0mparent\u001b[0m\u001b[0;34m.\u001b[0m\u001b[0mchildren\u001b[0m\u001b[0;34m[\u001b[0m\u001b[0mchild_idx\u001b[0m\u001b[0;34m]\u001b[0m\u001b[0;34m\u001b[0m\u001b[0m\n",
      "\u001b[0;32m~/anaconda3/lib/python3.6/copy.py\u001b[0m in \u001b[0;36mdeepcopy\u001b[0;34m(x, memo, _nil)\u001b[0m\n\u001b[1;32m    140\u001b[0m \u001b[0;34m\u001b[0m\u001b[0m\n\u001b[1;32m    141\u001b[0m     \u001b[0md\u001b[0m \u001b[0;34m=\u001b[0m \u001b[0mid\u001b[0m\u001b[0;34m(\u001b[0m\u001b[0mx\u001b[0m\u001b[0;34m)\u001b[0m\u001b[0;34m\u001b[0m\u001b[0m\n\u001b[0;32m--> 142\u001b[0;31m     \u001b[0my\u001b[0m \u001b[0;34m=\u001b[0m \u001b[0mmemo\u001b[0m\u001b[0;34m.\u001b[0m\u001b[0mget\u001b[0m\u001b[0;34m(\u001b[0m\u001b[0md\u001b[0m\u001b[0;34m,\u001b[0m \u001b[0m_nil\u001b[0m\u001b[0;34m)\u001b[0m\u001b[0;34m\u001b[0m\u001b[0m\n\u001b[0m\u001b[1;32m    143\u001b[0m     \u001b[0;32mif\u001b[0m \u001b[0my\u001b[0m \u001b[0;32mis\u001b[0m \u001b[0;32mnot\u001b[0m \u001b[0m_nil\u001b[0m\u001b[0;34m:\u001b[0m\u001b[0;34m\u001b[0m\u001b[0m\n\u001b[1;32m    144\u001b[0m         \u001b[0;32mreturn\u001b[0m \u001b[0my\u001b[0m\u001b[0;34m\u001b[0m\u001b[0m\n",
      "\u001b[0;31mKeyboardInterrupt\u001b[0m: "
     ]
    }
   ],
   "source": [
    "loss_threshold = 1E-2\n",
    "learning_curve = []\n",
    "\n",
    "minibatch_size = 50\n",
    "print(model)\n",
    "while(not learning_curve or learning_curve[-1] > loss_threshold):\n",
    "    optimizer.zero_grad()\n",
    "    \n",
    "    loss_batch = 0\n",
    "    for i in range(minibatch_size):\n",
    "        (x, y) = generate_rna_tree()\n",
    "        #print(x)\n",
    "        y_predicted = model(x)\n",
    "        loss_object = loss_function(y, y_predicted)\n",
    "        loss_batch += loss_object.item()\n",
    "        loss_object.backward()\n",
    "\n",
    "    learning_curve.append(loss_batch / minibatch_size)\n",
    "    if(len(learning_curve) % 20 == 0):\n",
    "        print('loss after {} batches: {}'.format(len(learning_curve), learning_curve[-1]))\n",
    "    optimizer.step()"
   ]
  },
  {
   "cell_type": "code",
   "execution_count": 54,
   "metadata": {},
   "outputs": [
    {
     "data": {
      "image/png": "[encoded data removed]",
      "text/plain": [
       "<matplotlib.figure.Figure at 0x7ff1a91c60f0>"
      ]
     },
     "metadata": {
      "needs_background": "light"
     },
     "output_type": "display_data"
    }
   ],
   "source": [
    "# plot the learning curve\n",
    "\n",
    "import matplotlib.pyplot as plt\n",
    "\n",
    "plt.plot(list(range(len(learning_curve))), learning_curve)\n",
    "plt.xlabel('gradient step')\n",
    "plt.ylabel('loss')\n",
    "plt.show()"
   ]
  },
  {
   "cell_type": "code",
   "execution_count": 53,
   "metadata": {},
   "outputs": [
    {
     "data": {
      "image/png": "[encoded data removed]",
      "text/plain": [
       "<matplotlib.figure.Figure at 0x7ff1a91c27b8>"
      ]
     },
     "metadata": {
      "needs_background": "light"
     },
     "output_type": "display_data"
    }
   ],
   "source": [
    "import matplotlib.pyplot as plt\n",
    "from recursive_oracle import tree_size\n",
    "\n",
    "session = []\n",
    "    \n",
    "model.eval()\n",
    "with torch.no_grad():\n",
    "    for i in range(100):\n",
    "        x, y = generate_rna_tree()\n",
    "        y_pred = model(x)\n",
    "        error = abs(y - y_pred).item()\n",
    "        size = tree_size(x)\n",
    "        session.append((size, error))\n",
    "            \n",
    "plt.scatter([item[0] for item in session], [item[1] for item in session])\n",
    "plt.xlabel('Tree size')\n",
    "plt.ylabel('Loss')\n",
    "plt.show()"
   ]
  },
  {
   "cell_type": "code",
   "execution_count": 55,
   "metadata": {},
   "outputs": [
    {
     "name": "stdout",
     "output_type": "stream",
     "text": [
      "weights for symbol 'dangle' = tensor([-0.2704, -0.4047, -0.3359, -0.3495, -0.4511, -0.3127, -0.2429, -0.1618,\n",
      "        -0.1598,  0.1904,  0.0341,  0.1647, -0.2226,  0.1749, -0.1367, -0.1964]) ; bias = tensor(-0.5814)\n",
      "weights for symbol 'dangle_end' = tensor([ 0.3547, -0.2590, -0.2403,  0.4077,  0.1549,  0.0921, -0.0895,  0.2481]) ; bias = tensor(-0.1021)\n",
      "weights for symbol 'split' = tensor([ 0.0419,  0.0716, -0.0718,  0.1385,  0.0315, -0.1269, -0.1482,  0.2803,\n",
      "         0.0091,  0.1034,  0.1339,  0.2559,  0.0004, -0.3744, -0.1466,  0.1429]) ; bias = tensor(0.0414)\n",
      "weights for symbol 'pair' = tensor([-0.1522,  0.1451,  0.3004, -0.2094, -0.0035, -0.2009, -0.1306,  0.4832,\n",
      "         0.2986, -0.0979, -0.1272, -0.3537,  0.0042, -0.4602,  0.1042,  0.4200,\n",
      "         0.0389, -0.0185,  0.3939, -0.1801,  0.1659, -0.1738,  0.0061,  0.7007]) ; bias = tensor(-0.1406)\n",
      "weights for symbol 'branch' = tensor([ 0.0672,  0.0712, -0.1132, -0.0295,  0.0795, -0.2821,  0.1549,  0.2541,\n",
      "         0.4462,  0.0742,  0.0726,  0.1278,  0.1867, -0.5421, -0.0717, -0.0858]) ; bias = tensor(-0.3848)\n",
      "weights for symbol 'hairpin' = tensor([-0.2324, -0.1152, -0.2007, -0.1395, -0.3277, -0.2522, -0.3915,  0.0202,\n",
      "        -0.0416,  0.0360, -0.2414, -0.0777,  0.0207,  0.0271,  0.0524,  0.0027]) ; bias = tensor(-0.4216)\n",
      "weights for symbol 'hairpin_end' = tensor([ 0.1099, -0.2253,  0.0472, -0.2258, -0.0680,  0.1503,  0.2586,  0.2161]) ; bias = tensor(0.1859)\n",
      "encoding for symbol 'c' = Parameter containing:\n",
      "tensor([-2.4466,  2.0137,  1.6382, -0.0266,  1.9911, -1.8346, -0.7274,  1.6521],\n",
      "       requires_grad=True)\n",
      "encoding for symbol 'g' = Parameter containing:\n",
      "tensor([-0.0407, -0.1944, -1.0641, -0.3240,  0.5313,  0.7934,  0.7351, -1.8223],\n",
      "       requires_grad=True)\n",
      "encoding for symbol 'a' = Parameter containing:\n",
      "tensor([ 0.9372, -0.3067,  0.7647,  1.3656, -1.2566, -0.5140, -1.3820, -1.1680],\n",
      "       requires_grad=True)\n",
      "encoding for symbol 'u' = Parameter containing:\n",
      "tensor([-0.7947, -0.2361, -2.3325,  1.1625,  0.2371, -0.2090,  0.3968, -2.4279],\n",
      "       requires_grad=True)\n"
     ]
    }
   ],
   "source": [
    "for symbol, arity in rna_arity_alphabet.items():\n",
    "    if(arity > 0):\n",
    "        w = model.layers[symbol].weight.data[0]\n",
    "        b = model.layers[symbol].bias.data[0]\n",
    "        print('weights for symbol \\'%s\\' = %s ; bias = %s' % (symbol, str(w), str(b)))\n",
    "    else:\n",
    "        print('encoding for symbol \\'%s\\' = %s' % (symbol, str(model.constants[symbol])))"
   ]
  },
  {
   "cell_type": "code",
   "execution_count": null,
   "metadata": {},
   "outputs": [],
   "source": []
  }
 ],
 "metadata": {
  "kernelspec": {
   "display_name": "Python 3",
   "language": "python",
   "name": "python3"
  },
  "language_info": {
   "codemirror_mode": {
    "name": "ipython",
    "version": 3
   },
   "file_extension": ".py",
   "mimetype": "text/x-python",
   "name": "python",
   "nbconvert_exporter": "python",
   "pygments_lexer": "ipython3",
   "version": "3.6.0"
  }
 },
 "nbformat": 4,
 "nbformat_minor": 2
}
